{
 "cells": [
  {
   "cell_type": "code",
   "id": "initial_id",
   "metadata": {
    "collapsed": true,
    "ExecuteTime": {
     "end_time": "2024-05-02T23:29:48.641199Z",
     "start_time": "2024-05-02T23:29:43.510594Z"
    }
   },
   "source": [
    "from datasets import load_dataset\n",
    "import spacy\n",
    "\n",
    "from tqdm import tqdm\n",
    "dataset = load_dataset(\"wmt/wmt16\", 'de-en')"
   ],
   "outputs": [],
   "execution_count": 1
  },
  {
   "metadata": {
    "ExecuteTime": {
     "end_time": "2024-05-02T23:30:07.320341Z",
     "start_time": "2024-05-02T23:30:06.730559Z"
    }
   },
   "cell_type": "code",
   "source": [
    "nlp_en = spacy.load(\"en_core_web_sm\")\n",
    "nlp_de = spacy.load(\"de_core_news_sm\")"
   ],
   "id": "e2d2c2ff6d9b8b9c",
   "outputs": [],
   "execution_count": 2
  },
  {
   "metadata": {
    "ExecuteTime": {
     "end_time": "2024-05-02T23:35:53.574103Z",
     "start_time": "2024-05-02T23:35:53.571624Z"
    }
   },
   "cell_type": "code",
   "source": [
    "# get rid of the punctuation\n",
    "def lemmatize_en(text):\n",
    "    return [tok.lemma_.lower() for tok in nlp_en(text) if not tok.is_punct]"
   ],
   "id": "8c719e7b62720fe1",
   "outputs": [],
   "execution_count": 23
  },
  {
   "metadata": {
    "ExecuteTime": {
     "end_time": "2024-05-02T23:35:54.073309Z",
     "start_time": "2024-05-02T23:35:54.071629Z"
    }
   },
   "cell_type": "code",
   "source": [
    "# get rid of the punctuation and lower case the words\n",
    "def lemmatize_de(text):\n",
    "    return [tok.lemma_.lower() for tok in nlp_de(text) if not tok.is_punct]"
   ],
   "id": "98222cba41b69a5d",
   "outputs": [],
   "execution_count": 24
  },
  {
   "metadata": {
    "ExecuteTime": {
     "end_time": "2024-05-03T02:48:04.150634Z",
     "start_time": "2024-05-03T02:48:04.141546Z"
    }
   },
   "cell_type": "code",
   "source": "print(lemmatize_en(\"Hello, how are The things you America?\"))",
   "id": "c373708f6b630a55",
   "outputs": [
    {
     "name": "stdout",
     "output_type": "stream",
     "text": [
      "['hello', 'how', 'be', 'the', 'thing', 'you', 'america']\n"
     ]
    }
   ],
   "execution_count": 45
  },
  {
   "metadata": {
    "ExecuteTime": {
     "end_time": "2024-05-02T23:35:59.799069Z",
     "start_time": "2024-05-02T23:35:59.790863Z"
    }
   },
   "cell_type": "code",
   "source": "print(lemmatize_de(\"Hallo, wie geht es dir?\"))",
   "id": "415027fb9ec4ee91",
   "outputs": [
    {
     "name": "stdout",
     "output_type": "stream",
     "text": [
      "['hallo', 'wie', 'gehen', 'es', 'dir']\n"
     ]
    }
   ],
   "execution_count": 28
  },
  {
   "metadata": {
    "ExecuteTime": {
     "end_time": "2024-05-02T23:32:51.930680Z",
     "start_time": "2024-05-02T23:32:50.724544Z"
    }
   },
   "cell_type": "code",
   "source": "dataset = load_dataset(\"wmt/wmt16\", 'de-en')",
   "id": "79b258d282189c1e",
   "outputs": [],
   "execution_count": 12
  },
  {
   "metadata": {
    "ExecuteTime": {
     "end_time": "2024-05-02T23:37:13.380168Z",
     "start_time": "2024-05-02T23:37:04.928369Z"
    }
   },
   "cell_type": "code",
   "source": "truncated_dataset = dataset['train']['translation'][:1000000]",
   "id": "7ef1fcc25570c057",
   "outputs": [],
   "execution_count": 30
  },
  {
   "metadata": {
    "ExecuteTime": {
     "end_time": "2024-05-03T02:25:09.020683Z",
     "start_time": "2024-05-02T23:37:19.438897Z"
    }
   },
   "cell_type": "code",
   "source": [
    "english_sentences = []\n",
    "german_sentences = []\n",
    "\n",
    "for item in tqdm(truncated_dataset):\n",
    "    english_sentences.append(lemmatize_en(item['en']))\n",
    "    german_sentences.append(lemmatize_de(item['de']))\n",
    "    "
   ],
   "id": "78d16dd98e2f7231",
   "outputs": [
    {
     "name": "stderr",
     "output_type": "stream",
     "text": [
      "100%|██████████| 1000000/1000000 [2:47:49<00:00, 99.31it/s]  \n"
     ]
    }
   ],
   "execution_count": 31
  },
  {
   "metadata": {
    "ExecuteTime": {
     "end_time": "2024-05-03T02:44:50.447004Z",
     "start_time": "2024-05-03T02:44:42.376063Z"
    }
   },
   "cell_type": "code",
   "source": [
    "# save sentences\n",
    "import pickle\n",
    "with open('english_sentences_lemmatized.pkl', 'wb') as f:\n",
    "    pickle.dump(english_sentences, f)\n",
    "\n",
    "with open('german_sentences_lemmatized.pkl', 'wb') as f:\n",
    "    pickle.dump(german_sentences, f)"
   ],
   "id": "5dac5ecb637f4af1",
   "outputs": [],
   "execution_count": 35
  },
  {
   "metadata": {
    "ExecuteTime": {
     "end_time": "2024-05-03T03:09:58.150258Z",
     "start_time": "2024-05-03T03:09:51.106494Z"
    }
   },
   "cell_type": "code",
   "source": [
    "# remove stopwords from sentences\n",
    "from nltk.corpus import stopwords\n",
    "stop_words_en = set(stopwords.words('english'))\n",
    "stop_words_de = set(stopwords.words('german'))\n",
    "\n",
    "english_sentences = [[word for word in sentence if word not in stop_words_en] for sentence in english_sentences]\n",
    "german_sentences = [[word for word in sentence if word not in stop_words_de] for sentence in german_sentences]"
   ],
   "id": "d0ea5c4990ea58c9",
   "outputs": [],
   "execution_count": 46
  },
  {
   "metadata": {
    "ExecuteTime": {
     "end_time": "2024-05-03T03:10:12.859105Z",
     "start_time": "2024-05-03T03:10:08.907194Z"
    }
   },
   "cell_type": "code",
   "source": [
    "with open('english_sentences_lemmatized_no_stopwords.pkl', 'wb') as f:\n",
    "    pickle.dump(english_sentences, f)\n",
    "    \n",
    "with open('german_sentences_lemmatized_no_stopwords.pkl', 'wb') as f:\n",
    "    pickle.dump(german_sentences, f)"
   ],
   "id": "f040bb768340651f",
   "outputs": [],
   "execution_count": 47
  },
  {
   "metadata": {
    "ExecuteTime": {
     "end_time": "2024-05-03T03:10:51.459776Z",
     "start_time": "2024-05-03T03:10:19.753338Z"
    }
   },
   "cell_type": "code",
   "source": [
    "from gensim.models import Word2Vec\n",
    "\n",
    "english_model = Word2Vec(english_sentences, vector_size=50, window=5, min_count=4)\n",
    "german_model = Word2Vec(german_sentences, vector_size=50, window=5, min_count=4)\n"
   ],
   "id": "28e29c02a7c5397a",
   "outputs": [],
   "execution_count": 48
  },
  {
   "metadata": {
    "ExecuteTime": {
     "end_time": "2024-05-03T03:10:51.485060Z",
     "start_time": "2024-05-03T03:10:51.460983Z"
    }
   },
   "cell_type": "code",
   "source": [
    "english_model.save(\"english_model_lemmatized\")\n",
    "german_model.save(\"german_model_lemmatized\")\n"
   ],
   "id": "3686a51e7b5a13b7",
   "outputs": [],
   "execution_count": 49
  },
  {
   "metadata": {
    "ExecuteTime": {
     "end_time": "2024-05-03T03:10:51.508444Z",
     "start_time": "2024-05-03T03:10:51.485669Z"
    }
   },
   "cell_type": "code",
   "source": [
    "# print german model\n",
    "print(german_model.wv.most_similar(\"hallo\"))"
   ],
   "id": "97473e8f5aa259ca",
   "outputs": [
    {
     "name": "stdout",
     "output_type": "stream",
     "text": [
      "[('weiterfahren', 0.8777409791946411), ('hochdruck', 0.8745231628417969), ('longbridge', 0.8726409077644348), ('336', 0.8722585439682007), ('nachdenke', 0.8708760142326355), ('riesenproblem', 0.8705061078071594), ('0509', 0.8702282905578613), ('freiland', 0.8701116442680359), ('0495', 0.8690578937530518), ('drum', 0.8688647747039795)]\n"
     ]
    }
   ],
   "execution_count": 50
  },
  {
   "metadata": {
    "ExecuteTime": {
     "end_time": "2024-05-03T03:10:51.546915Z",
     "start_time": "2024-05-03T03:10:51.526891Z"
    }
   },
   "cell_type": "code",
   "source": [
    "# print frequent words\n",
    "print(german_model.wv.index_to_key[:10])\n"
   ],
   "id": "5979db351d1f3fa6",
   "outputs": [
    {
     "name": "stdout",
     "output_type": "stream",
     "text": [
      "['europäisch', 'herr', 'kommission', 'parlament', 'müssen', 'sollen', 'union', 'möchten', 'präsident', 'bericht']\n"
     ]
    }
   ],
   "execution_count": 51
  },
  {
   "metadata": {
    "ExecuteTime": {
     "end_time": "2024-05-03T03:10:51.555769Z",
     "start_time": "2024-05-03T03:10:51.553018Z"
    }
   },
   "cell_type": "code",
   "source": "print(english_model.wv.index_to_key[:10])",
   "id": "37c098678879622c",
   "outputs": [
    {
     "name": "stdout",
     "output_type": "stream",
     "text": [
      "['european', 'mr', 'commission', 'would', 'also', 'president', 'member', 'must', 'make', 'country']\n"
     ]
    }
   ],
   "execution_count": 52
  },
  {
   "metadata": {},
   "cell_type": "code",
   "outputs": [],
   "execution_count": null,
   "source": "",
   "id": "8bf444301f65019c"
  }
 ],
 "metadata": {
  "kernelspec": {
   "display_name": "Python 3",
   "language": "python",
   "name": "python3"
  },
  "language_info": {
   "codemirror_mode": {
    "name": "ipython",
    "version": 2
   },
   "file_extension": ".py",
   "mimetype": "text/x-python",
   "name": "python",
   "nbconvert_exporter": "python",
   "pygments_lexer": "ipython2",
   "version": "2.7.6"
  }
 },
 "nbformat": 4,
 "nbformat_minor": 5
}
