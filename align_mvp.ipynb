{
 "cells": [
  {
   "cell_type": "code",
   "id": "initial_id",
   "metadata": {
    "collapsed": true,
    "ExecuteTime": {
     "end_time": "2024-04-30T07:38:10.880954Z",
     "start_time": "2024-04-30T07:38:10.158294Z"
    }
   },
   "source": [
    "from gensim.models import Word2Vec\n",
    "english_model = Word2Vec.load('english_model.bin')\n",
    "czech_model = Word2Vec.load('czech_model.bin')"
   ],
   "outputs": [],
   "execution_count": 1
  },
  {
   "metadata": {
    "ExecuteTime": {
     "end_time": "2024-04-30T07:38:17.743213Z",
     "start_time": "2024-04-30T07:38:17.700867Z"
    }
   },
   "cell_type": "code",
   "source": "english_model.wv.most_similar('dog')",
   "id": "693fb06f7af3c6d",
   "outputs": [
    {
     "data": {
      "text/plain": [
       "[('girl', 0.7456612586975098),\n",
       " ('father', 0.7108955979347229),\n",
       " ('wife', 0.7075642347335815),\n",
       " ('boy', 0.688701331615448),\n",
       " ('son', 0.6881185173988342),\n",
       " ('husband', 0.6811791062355042),\n",
       " ('doctor', 0.6782678961753845),\n",
       " ('woman', 0.6625537276268005),\n",
       " ('daughter', 0.6612581610679626),\n",
       " ('grandmother', 0.6604791879653931)]"
      ]
     },
     "execution_count": 2,
     "metadata": {},
     "output_type": "execute_result"
    }
   ],
   "execution_count": 2
  },
  {
   "metadata": {
    "ExecuteTime": {
     "end_time": "2024-04-30T07:48:25.531047Z",
     "start_time": "2024-04-30T07:48:25.493780Z"
    }
   },
   "cell_type": "code",
   "source": "english_model.wv.most_similar('nail')",
   "id": "4f8a6670b0aa3e37",
   "outputs": [
    {
     "data": {
      "text/plain": [
       "[('coffin', 0.6923341751098633),\n",
       " ('leg', 0.6564711928367615),\n",
       " ('wallpaper', 0.6413859128952026),\n",
       " ('saver', 0.6361402869224548),\n",
       " ('bladder', 0.6231851577758789),\n",
       " ('crust', 0.6223688721656799),\n",
       " ('fist', 0.6206274032592773),\n",
       " ('pawn', 0.6160644292831421),\n",
       " ('rectangle', 0.6155871748924255),\n",
       " ('clone', 0.6104528307914734)]"
      ]
     },
     "execution_count": 8,
     "metadata": {},
     "output_type": "execute_result"
    }
   ],
   "execution_count": 8
  },
  {
   "metadata": {
    "ExecuteTime": {
     "end_time": "2024-04-30T07:46:27.544676Z",
     "start_time": "2024-04-30T07:46:27.514198Z"
    }
   },
   "cell_type": "code",
   "source": "czech_model.wv.most_similar('ano')",
   "id": "a7b95663ac875ba9",
   "outputs": [
    {
     "data": {
      "text/plain": [
       "[('ne', 0.5883450508117676),\n",
       " ('tohle', 0.5407861471176147),\n",
       " ('říkám', 0.5278217792510986),\n",
       " ('řekneme', 0.5266010761260986),\n",
       " ('vždycky', 0.520661473274231),\n",
       " ('nevadí', 0.5059341788291931),\n",
       " ('nevíte', 0.5044841766357422),\n",
       " ('doopravdy', 0.5013726353645325),\n",
       " ('pravdu', 0.4998522400856018),\n",
       " ('zní', 0.49279120564460754)]"
      ]
     },
     "execution_count": 4,
     "metadata": {},
     "output_type": "execute_result"
    }
   ],
   "execution_count": 4
  },
  {
   "metadata": {
    "ExecuteTime": {
     "end_time": "2024-04-30T07:38:22.547063Z",
     "start_time": "2024-04-30T07:38:22.509586Z"
    }
   },
   "cell_type": "code",
   "source": "english_model.wv.most_similar('king')",
   "id": "49fc415881689286",
   "outputs": [
    {
     "data": {
      "text/plain": [
       "[('prince', 0.859019935131073),\n",
       " ('emperor', 0.8444666862487793),\n",
       " ('queen', 0.8326833844184875),\n",
       " ('singer', 0.791301429271698),\n",
       " ('governor', 0.7900794744491577),\n",
       " ('composer', 0.7879384756088257),\n",
       " ('james', 0.7765035629272461),\n",
       " ('duke', 0.7761276960372925),\n",
       " ('john', 0.7758286595344543),\n",
       " ('mayor', 0.7747195959091187)]"
      ]
     },
     "execution_count": 3,
     "metadata": {},
     "output_type": "execute_result"
    }
   ],
   "execution_count": 3
  },
  {
   "metadata": {},
   "cell_type": "code",
   "outputs": [],
   "execution_count": null,
   "source": "# find ",
   "id": "1fa401262b34bfc9"
  }
 ],
 "metadata": {
  "kernelspec": {
   "display_name": "Python 3",
   "language": "python",
   "name": "python3"
  },
  "language_info": {
   "codemirror_mode": {
    "name": "ipython",
    "version": 2
   },
   "file_extension": ".py",
   "mimetype": "text/x-python",
   "name": "python",
   "nbconvert_exporter": "python",
   "pygments_lexer": "ipython2",
   "version": "2.7.6"
  }
 },
 "nbformat": 4,
 "nbformat_minor": 5
}
