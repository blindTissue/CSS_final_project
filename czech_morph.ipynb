{
 "cells": [
  {
   "cell_type": "code",
   "execution_count": 1,
   "id": "initial_id",
   "metadata": {
    "collapsed": true,
    "ExecuteTime": {
     "end_time": "2024-04-24T20:23:51.824252Z",
     "start_time": "2024-04-24T20:23:51.820478Z"
    }
   },
   "outputs": [],
   "source": [
    "import majka"
   ]
  },
  {
   "cell_type": "code",
   "outputs": [
    {
     "name": "stderr",
     "output_type": "stream",
     "text": [
      "Cannot open dictionary file majka.w-lt\n"
     ]
    },
    {
     "ename": "OSError",
     "evalue": "Majka dictionary is unreadable or invalid",
     "output_type": "error",
     "traceback": [
      "\u001B[0;31m---------------------------------------------------------------------------\u001B[0m",
      "\u001B[0;31mOSError\u001B[0m                                   Traceback (most recent call last)",
      "Cell \u001B[0;32mIn[2], line 1\u001B[0m\n\u001B[0;32m----> 1\u001B[0m morph \u001B[38;5;241m=\u001B[39m \u001B[43mmajka\u001B[49m\u001B[38;5;241;43m.\u001B[39;49m\u001B[43mMajka\u001B[49m\u001B[43m(\u001B[49m\u001B[38;5;124;43m'\u001B[39;49m\u001B[38;5;124;43mmajka.w-lt\u001B[39;49m\u001B[38;5;124;43m'\u001B[39;49m\u001B[43m)\u001B[49m\n",
      "\u001B[0;31mOSError\u001B[0m: Majka dictionary is unreadable or invalid"
     ]
    }
   ],
   "source": [
    "morph = majka.Majka('majka.w-lt')"
   ],
   "metadata": {
    "collapsed": false,
    "ExecuteTime": {
     "end_time": "2024-04-24T20:24:16.301982Z",
     "start_time": "2024-04-24T20:24:16.226770Z"
    }
   },
   "id": "f11ba2013a923e0",
   "execution_count": 2
  },
  {
   "cell_type": "code",
   "outputs": [],
   "source": [],
   "metadata": {
    "collapsed": false
   },
   "id": "43a16a9038ee91fb"
  }
 ],
 "metadata": {
  "kernelspec": {
   "display_name": "Python 3",
   "language": "python",
   "name": "python3"
  },
  "language_info": {
   "codemirror_mode": {
    "name": "ipython",
    "version": 2
   },
   "file_extension": ".py",
   "mimetype": "text/x-python",
   "name": "python",
   "nbconvert_exporter": "python",
   "pygments_lexer": "ipython2",
   "version": "2.7.6"
  }
 },
 "nbformat": 4,
 "nbformat_minor": 5
}
