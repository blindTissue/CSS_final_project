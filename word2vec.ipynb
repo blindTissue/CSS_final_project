{
 "cells": [
  {
   "cell_type": "code",
   "execution_count": 1,
   "id": "initial_id",
   "metadata": {
    "collapsed": true,
    "ExecuteTime": {
     "end_time": "2024-04-11T14:03:07.108067Z",
     "start_time": "2024-04-11T14:03:03.327176Z"
    }
   },
   "outputs": [],
   "source": [
    "\n",
    "from datasets import load_dataset\n",
    "from tqdm import tqdm\n",
    "dataset = load_dataset(\"wmt/wmt16\", 'cs-en')"
   ]
  },
  {
   "cell_type": "code",
   "outputs": [
    {
     "name": "stdout",
     "output_type": "stream",
     "text": [
      "DatasetDict({\n",
      "    train: Dataset({\n",
      "        features: ['translation'],\n",
      "        num_rows: 997240\n",
      "    })\n",
      "    validation: Dataset({\n",
      "        features: ['translation'],\n",
      "        num_rows: 2656\n",
      "    })\n",
      "    test: Dataset({\n",
      "        features: ['translation'],\n",
      "        num_rows: 2999\n",
      "    })\n",
      "})\n"
     ]
    }
   ],
   "source": [
    "print(dataset)"
   ],
   "metadata": {
    "collapsed": false,
    "ExecuteTime": {
     "end_time": "2024-04-11T14:03:07.110744Z",
     "start_time": "2024-04-11T14:03:07.109082Z"
    }
   },
   "id": "342fe271398dba6b",
   "execution_count": 2
  },
  {
   "cell_type": "code",
   "outputs": [
    {
     "name": "stdout",
     "output_type": "stream",
     "text": [
      "{'cs': 'Následný postup na základě usnesení Parlamentu: viz zápis', 'en': \"Action taken on Parliament's resolutions: see Minutes\"}\n"
     ]
    }
   ],
   "source": [
    "print(dataset['train']['translation'][0])"
   ],
   "metadata": {
    "collapsed": false,
    "ExecuteTime": {
     "end_time": "2024-04-11T14:03:09.789745Z",
     "start_time": "2024-04-11T14:03:07.111395Z"
    }
   },
   "id": "d88e98d0c6921764",
   "execution_count": 3
  },
  {
   "cell_type": "code",
   "outputs": [
    {
     "name": "stderr",
     "output_type": "stream",
     "text": [
      "[nltk_data] Error loading punkt: <urlopen error [SSL:\n",
      "[nltk_data]     CERTIFICATE_VERIFY_FAILED] certificate verify failed:\n",
      "[nltk_data]     unable to get local issuer certificate (_ssl.c:1006)>\n"
     ]
    }
   ],
   "source": [
    "import nltk\n",
    "nltk.download('punkt')\n",
    "from nltk.tokenize import word_tokenize"
   ],
   "metadata": {
    "collapsed": false,
    "ExecuteTime": {
     "end_time": "2024-04-11T14:03:10.566130Z",
     "start_time": "2024-04-11T14:03:09.790483Z"
    }
   },
   "id": "32f7121df988026a",
   "execution_count": 4
  },
  {
   "cell_type": "code",
   "outputs": [],
   "source": [
    "def tokenize_text(text):\n",
    "    # Tokenize the text into words\n",
    "    tokens = word_tokenize(text)\n",
    "    return tokens\n"
   ],
   "metadata": {
    "collapsed": false,
    "ExecuteTime": {
     "end_time": "2024-04-11T14:03:10.569317Z",
     "start_time": "2024-04-11T14:03:10.567659Z"
    }
   },
   "id": "5d46ca6ab14fbb4d",
   "execution_count": 5
  },
  {
   "cell_type": "code",
   "outputs": [
    {
     "data": {
      "text/plain": "['Hello', ',', 'how', 'are', 'you']"
     },
     "execution_count": 6,
     "metadata": {},
     "output_type": "execute_result"
    }
   ],
   "source": [
    "tokenize_text(\"Hello, how are you\")"
   ],
   "metadata": {
    "collapsed": false,
    "ExecuteTime": {
     "end_time": "2024-04-11T14:03:10.576462Z",
     "start_time": "2024-04-11T14:03:10.569902Z"
    }
   },
   "id": "2e373e76fd6f0f41",
   "execution_count": 6
  },
  {
   "cell_type": "code",
   "outputs": [],
   "source": [
    "a = word_tokenize(dataset['train']['translation'][0]['cs'], language='czech')"
   ],
   "metadata": {
    "collapsed": false,
    "ExecuteTime": {
     "end_time": "2024-04-11T14:03:12.548988Z",
     "start_time": "2024-04-11T14:03:10.577039Z"
    }
   },
   "id": "a87d4bd28ebb209f",
   "execution_count": 7
  },
  {
   "cell_type": "code",
   "outputs": [
    {
     "data": {
      "text/plain": "9"
     },
     "execution_count": 8,
     "metadata": {},
     "output_type": "execute_result"
    }
   ],
   "source": [
    "len(a)"
   ],
   "metadata": {
    "collapsed": false,
    "ExecuteTime": {
     "end_time": "2024-04-11T14:03:15.393920Z",
     "start_time": "2024-04-11T14:03:15.390961Z"
    }
   },
   "id": "60291ca24421d9ea",
   "execution_count": 8
  },
  {
   "cell_type": "code",
   "outputs": [],
   "source": [
    "english_sentences = []\n",
    "czech_sentences = []\n",
    "for item in dataset['train']['translation']:\n",
    "    english_sentences.append(word_tokenize(item['en']))\n",
    "    czech_sentences.append(word_tokenize(item['cs'], language='czech'))"
   ],
   "metadata": {
    "collapsed": false,
    "ExecuteTime": {
     "end_time": "2024-04-11T14:04:53.781100Z",
     "start_time": "2024-04-11T14:03:16.154350Z"
    }
   },
   "id": "fdba1cedc1ffc236",
   "execution_count": 9
  },
  {
   "cell_type": "code",
   "outputs": [
    {
     "name": "stdout",
     "output_type": "stream",
     "text": [
      "Number of unique English words:  235981\n",
      "Number of unique Czech words:  431445\n"
     ]
    }
   ],
   "source": [
    "# get number of unique words in the dataset\n",
    "english_words = set()\n",
    "czech_words = set()\n",
    "for sentence in english_sentences:\n",
    "    for word in sentence:\n",
    "        english_words.add(word)\n",
    "for sentence in czech_sentences:\n",
    "    for word in sentence:\n",
    "        czech_words.add(word)\n",
    "        \n",
    "print(\"Number of unique English words: \", len(english_words))\n",
    "print(\"Number of unique Czech words: \", len(czech_words))"
   ],
   "metadata": {
    "collapsed": false,
    "ExecuteTime": {
     "end_time": "2024-04-11T14:04:57.064883Z",
     "start_time": "2024-04-11T14:04:53.781979Z"
    }
   },
   "id": "f1429b595daccd2",
   "execution_count": 10
  },
  {
   "cell_type": "code",
   "outputs": [],
   "source": [
    "# Get top common words\n",
    "from collections import Counter\n",
    "english_word_freq = Counter()\n",
    "czech_word_freq = Counter()\n",
    "for sentence in english_sentences:\n",
    "    for word in sentence:\n",
    "        english_word_freq[word] += 1\n",
    "for sentence in czech_sentences:\n",
    "    for word in sentence:\n",
    "        czech_word_freq[word] += 1\n",
    "\n",
    "english_most_common_words = [word for word, _ in english_word_freq.most_common(200)]\n",
    "czech_most_common_words = [word for word, _ in czech_word_freq.most_common(200)]\n"
   ],
   "metadata": {
    "collapsed": false,
    "ExecuteTime": {
     "end_time": "2024-04-11T14:11:55.155917Z",
     "start_time": "2024-04-11T14:11:48.795995Z"
    }
   },
   "id": "e5841f5ae5682442",
   "execution_count": 14
  },
  {
   "cell_type": "code",
   "outputs": [],
   "source": [
    "# save the tokenized sentences\n",
    "import pickle\n",
    "with open('english_sentences.pkl', 'wb') as f:\n",
    "    pickle.dump(english_sentences, f)\n",
    "with open('czech_sentences.pkl', 'wb') as f:\n",
    "    pickle.dump(czech_sentences, f)"
   ],
   "metadata": {
    "collapsed": false,
    "ExecuteTime": {
     "end_time": "2024-04-11T13:23:10.442887Z",
     "start_time": "2024-04-11T13:23:03.306412Z"
    }
   },
   "id": "9ed94787f5c66f92",
   "execution_count": 10
  },
  {
   "cell_type": "code",
   "outputs": [],
   "source": [
    "import multiprocessing\n",
    "\n",
    "cores = multiprocessing.cpu_count() # Count the number of cores in a computer"
   ],
   "metadata": {
    "collapsed": false,
    "ExecuteTime": {
     "end_time": "2024-04-11T13:23:10.445022Z",
     "start_time": "2024-04-11T13:23:10.443553Z"
    }
   },
   "id": "ea0ece2fabbbd74b",
   "execution_count": 11
  },
  {
   "cell_type": "code",
   "outputs": [
    {
     "data": {
      "text/plain": "16"
     },
     "execution_count": 12,
     "metadata": {},
     "output_type": "execute_result"
    }
   ],
   "source": [
    "cores"
   ],
   "metadata": {
    "collapsed": false,
    "ExecuteTime": {
     "end_time": "2024-04-11T13:23:10.447225Z",
     "start_time": "2024-04-11T13:23:10.445538Z"
    }
   },
   "id": "288b46ae00727eb3",
   "execution_count": 12
  },
  {
   "cell_type": "code",
   "outputs": [],
   "source": [
    "from tqdm import tqdm\n",
    "from gensim.models import Word2Vec\n",
    "english_model = Word2Vec(english_sentences, vector_size=100, window=5, min_count=5)\n",
    "czech_model = Word2Vec(czech_sentences, vector_size=100, window=5, min_count=5)"
   ],
   "metadata": {
    "collapsed": false,
    "ExecuteTime": {
     "end_time": "2024-04-11T13:26:32.049052Z",
     "start_time": "2024-04-11T13:25:21.014720Z"
    }
   },
   "id": "27710a939f31c242",
   "execution_count": 17
  },
  {
   "cell_type": "code",
   "outputs": [],
   "source": [
    "#save the models\n",
    "english_model.save('english_model.bin')\n",
    "czech_model.save('czech_model.bin')\n"
   ],
   "metadata": {
    "collapsed": false,
    "ExecuteTime": {
     "end_time": "2024-04-11T13:45:46.770239Z",
     "start_time": "2024-04-11T13:45:46.692945Z"
    }
   },
   "id": "b5c4426fb1596a4d",
   "execution_count": 18
  },
  {
   "cell_type": "code",
   "outputs": [],
   "source": [
    "english_model.build_vocab(english_sentences, progress_per=10000)"
   ],
   "metadata": {
    "collapsed": false,
    "ExecuteTime": {
     "end_time": "2024-04-11T13:24:02.118410Z",
     "start_time": "2024-04-11T13:23:59.660946Z"
    }
   },
   "id": "5a8319054018b42b",
   "execution_count": 15
  },
  {
   "cell_type": "code",
   "outputs": [
    {
     "data": {
      "text/plain": "array([-1.8469446 ,  2.0154119 ,  1.041538  ,  1.3715504 ,  0.4510828 ,\n        0.27229163, -0.90095884,  1.4303962 , -2.984903  ,  0.1789526 ,\n        1.2223547 , -1.0638099 ,  1.8196449 , -0.04832289, -1.8261926 ,\n       -1.4057215 , -0.09073389,  0.78078526, -0.66417646,  1.1698984 ,\n        1.3537631 , -0.7713773 ,  0.68272245, -0.975316  ,  1.5082344 ,\n        0.16980742,  0.7679376 , -1.5086436 , -2.5321705 ,  0.7470751 ,\n       -1.187493  , -0.44315642,  0.42992514, -0.5700873 ,  1.4696245 ,\n        3.579392  , -1.7902557 , -1.4915887 , -0.21909037,  2.8189087 ,\n        0.66733664, -0.8593181 , -1.6884806 ,  1.753546  ,  1.6210189 ,\n        1.005262  , -0.45152336,  1.5141109 ,  0.42287797,  2.3115773 ],\n      dtype=float32)"
     },
     "execution_count": 16,
     "metadata": {},
     "output_type": "execute_result"
    }
   ],
   "source": [
    "english_model.wv['learn']"
   ],
   "metadata": {
    "collapsed": false,
    "ExecuteTime": {
     "end_time": "2024-04-11T13:24:42.977605Z",
     "start_time": "2024-04-11T13:24:42.974429Z"
    }
   },
   "id": "aac269a6598e3063",
   "execution_count": 16
  },
  {
   "cell_type": "code",
   "outputs": [],
   "source": [
    "# read in model\n",
    "from gensim.models import Word2Vec\n",
    "english_model = Word2Vec.load('english_model.bin')\n",
    "czech_model = Word2Vec.load('czech_model.bin')\n"
   ],
   "metadata": {
    "collapsed": false,
    "ExecuteTime": {
     "end_time": "2024-04-11T14:10:54.900111Z",
     "start_time": "2024-04-11T14:10:54.288388Z"
    }
   },
   "id": "3abcc76fdbfa1b13",
   "execution_count": 11
  },
  {
   "cell_type": "code",
   "outputs": [
    {
     "data": {
      "text/plain": "119086"
     },
     "execution_count": 13,
     "metadata": {},
     "output_type": "execute_result"
    }
   ],
   "source": [
    "# length of the vocabulary\n",
    "len(english_model.wv)\n",
    "len(czech_model.wv)"
   ],
   "metadata": {
    "collapsed": false,
    "ExecuteTime": {
     "end_time": "2024-04-11T14:11:11.077496Z",
     "start_time": "2024-04-11T14:11:11.075282Z"
    }
   },
   "id": "82a62f21dae0fe9d",
   "execution_count": 13
  },
  {
   "cell_type": "code",
   "outputs": [],
   "source": [],
   "metadata": {
    "collapsed": false
   },
   "id": "b7f947333b74a0df"
  }
 ],
 "metadata": {
  "kernelspec": {
   "display_name": "Python 3",
   "language": "python",
   "name": "python3"
  },
  "language_info": {
   "codemirror_mode": {
    "name": "ipython",
    "version": 2
   },
   "file_extension": ".py",
   "mimetype": "text/x-python",
   "name": "python",
   "nbconvert_exporter": "python",
   "pygments_lexer": "ipython2",
   "version": "2.7.6"
  }
 },
 "nbformat": 4,
 "nbformat_minor": 5
}
