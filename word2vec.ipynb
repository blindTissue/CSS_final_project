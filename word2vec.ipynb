{
 "cells": [
  {
   "cell_type": "code",
   "id": "initial_id",
   "metadata": {
    "collapsed": true,
    "ExecuteTime": {
     "end_time": "2024-04-30T07:30:35.527776Z",
     "start_time": "2024-04-30T07:30:33.007387Z"
    }
   },
   "source": [
    "from datasets import load_dataset\n",
    "from tqdm import tqdm\n",
    "dataset = load_dataset(\"wmt/wmt16\", 'cs-en')"
   ],
   "outputs": [],
   "execution_count": 1
  },
  {
   "cell_type": "code",
   "source": [
    "print(dataset)"
   ],
   "metadata": {
    "collapsed": false,
    "ExecuteTime": {
     "end_time": "2024-04-30T07:30:36.690226Z",
     "start_time": "2024-04-30T07:30:36.687782Z"
    }
   },
   "id": "342fe271398dba6b",
   "outputs": [
    {
     "name": "stdout",
     "output_type": "stream",
     "text": [
      "DatasetDict({\n",
      "    train: Dataset({\n",
      "        features: ['translation'],\n",
      "        num_rows: 997240\n",
      "    })\n",
      "    validation: Dataset({\n",
      "        features: ['translation'],\n",
      "        num_rows: 2656\n",
      "    })\n",
      "    test: Dataset({\n",
      "        features: ['translation'],\n",
      "        num_rows: 2999\n",
      "    })\n",
      "})\n"
     ]
    }
   ],
   "execution_count": 2
  },
  {
   "cell_type": "code",
   "source": [
    "print(dataset['train']['translation'][0])"
   ],
   "metadata": {
    "collapsed": false,
    "ExecuteTime": {
     "end_time": "2024-04-30T07:30:40.179999Z",
     "start_time": "2024-04-30T07:30:37.561313Z"
    }
   },
   "id": "d88e98d0c6921764",
   "outputs": [
    {
     "name": "stdout",
     "output_type": "stream",
     "text": [
      "{'cs': 'Následný postup na základě usnesení Parlamentu: viz zápis', 'en': \"Action taken on Parliament's resolutions: see Minutes\"}\n"
     ]
    }
   ],
   "execution_count": 3
  },
  {
   "cell_type": "code",
   "source": [],
   "metadata": {
    "collapsed": false,
    "ExecuteTime": {
     "end_time": "2024-04-30T07:30:40.182304Z",
     "start_time": "2024-04-30T07:30:40.181080Z"
    }
   },
   "id": "794940b56cf84d81",
   "outputs": [],
   "execution_count": 3
  },
  {
   "cell_type": "code",
   "source": [
    "import nltk\n",
    "import nltk\n",
    "import ssl\n",
    "\n",
    "try:\n",
    "    _create_unverified_https_context = ssl._create_unverified_context\n",
    "except AttributeError:\n",
    "    pass\n",
    "else:\n",
    "    ssl._create_default_https_context = _create_unverified_https_context\n",
    "\n",
    "nltk.download('punkt')\n",
    "from nltk.tokenize import word_tokenize"
   ],
   "metadata": {
    "collapsed": false,
    "ExecuteTime": {
     "end_time": "2024-04-30T07:30:40.504581Z",
     "start_time": "2024-04-30T07:30:40.182881Z"
    }
   },
   "id": "32f7121df988026a",
   "outputs": [
    {
     "name": "stderr",
     "output_type": "stream",
     "text": [
      "[nltk_data] Downloading package punkt to\n",
      "[nltk_data]     /Users/sungwonkim/nltk_data...\n",
      "[nltk_data]   Package punkt is already up-to-date!\n"
     ]
    }
   ],
   "execution_count": 4
  },
  {
   "cell_type": "code",
   "outputs": [],
   "source": [
    "def tokenize_text(text):\n",
    "    # Tokenize the text into words\n",
    "    tokens = word_tokenize(text)\n",
    "    return tokens\n"
   ],
   "metadata": {
    "collapsed": false,
    "ExecuteTime": {
     "end_time": "2024-04-24T15:04:49.104690Z",
     "start_time": "2024-04-24T15:04:49.102648Z"
    }
   },
   "id": "5d46ca6ab14fbb4d",
   "execution_count": 5
  },
  {
   "cell_type": "code",
   "outputs": [
    {
     "data": {
      "text/plain": "['Hello', ',', 'how', 'are', 'you']"
     },
     "execution_count": 6,
     "metadata": {},
     "output_type": "execute_result"
    }
   ],
   "source": [
    "tokenize_text(\"Hello, how are you\")"
   ],
   "metadata": {
    "collapsed": false,
    "ExecuteTime": {
     "end_time": "2024-04-24T15:04:49.112010Z",
     "start_time": "2024-04-24T15:04:49.105575Z"
    }
   },
   "id": "2e373e76fd6f0f41",
   "execution_count": 6
  },
  {
   "cell_type": "code",
   "outputs": [],
   "source": [
    "a = word_tokenize(dataset['train']['translation'][0]['cs'], language='czech')"
   ],
   "metadata": {
    "collapsed": false,
    "ExecuteTime": {
     "end_time": "2024-04-24T15:04:52.312470Z",
     "start_time": "2024-04-24T15:04:50.191799Z"
    }
   },
   "id": "a87d4bd28ebb209f",
   "execution_count": 7
  },
  {
   "cell_type": "code",
   "outputs": [
    {
     "data": {
      "text/plain": "9"
     },
     "execution_count": 8,
     "metadata": {},
     "output_type": "execute_result"
    }
   ],
   "source": [
    "len(a)"
   ],
   "metadata": {
    "collapsed": false,
    "ExecuteTime": {
     "end_time": "2024-04-24T15:04:52.315533Z",
     "start_time": "2024-04-24T15:04:52.313433Z"
    }
   },
   "id": "60291ca24421d9ea",
   "execution_count": 8
  },
  {
   "cell_type": "code",
   "source": [
    "english_sentences = []\n",
    "czech_sentences = []\n",
    "for item in dataset['train']['translation']:\n",
    "    english_sentences.append(word_tokenize(item['en']))\n",
    "    czech_sentences.append(word_tokenize(item['cs'], language='czech'))"
   ],
   "metadata": {
    "collapsed": false,
    "ExecuteTime": {
     "end_time": "2024-04-30T07:34:21.841115Z",
     "start_time": "2024-04-30T07:32:44.738971Z"
    }
   },
   "id": "fdba1cedc1ffc236",
   "outputs": [],
   "execution_count": 5
  },
  {
   "metadata": {
    "ExecuteTime": {
     "end_time": "2024-04-30T07:34:49.135187Z",
     "start_time": "2024-04-30T07:34:42.051243Z"
    }
   },
   "cell_type": "code",
   "source": [
    "# make everything lowercase\n",
    "english_sentences = [[word.lower() for word in sentence] for sentence in english_sentences]\n",
    "czech_sentences = [[word.lower() for word in sentence] for sentence in czech_sentences]"
   ],
   "id": "51b108473858aa07",
   "outputs": [],
   "execution_count": 6
  },
  {
   "cell_type": "code",
   "source": [
    "# get number of unique words in the dataset\n",
    "english_words = set()\n",
    "czech_words = set()\n",
    "for sentence in english_sentences:\n",
    "    for word in sentence:\n",
    "        english_words.add(word)\n",
    "for sentence in czech_sentences:\n",
    "    for word in sentence:\n",
    "        czech_words.add(word)\n",
    "        \n",
    "print(\"Number of unique English words: \", len(english_words))\n",
    "print(\"Number of unique Czech words: \", len(czech_words))"
   ],
   "metadata": {
    "collapsed": false,
    "ExecuteTime": {
     "end_time": "2024-04-30T07:34:53.694289Z",
     "start_time": "2024-04-30T07:34:50.352245Z"
    }
   },
   "id": "f1429b595daccd2",
   "outputs": [
    {
     "name": "stdout",
     "output_type": "stream",
     "text": [
      "Number of unique English words:  206508\n",
      "Number of unique Czech words:  378946\n"
     ]
    }
   ],
   "execution_count": 7
  },
  {
   "cell_type": "code",
   "source": [
    "# Get top common words\n",
    "from collections import Counter\n",
    "english_word_freq = Counter()\n",
    "czech_word_freq = Counter()\n",
    "for sentence in english_sentences:\n",
    "    for word in sentence:\n",
    "        english_word_freq[word] += 1\n",
    "for sentence in czech_sentences:\n",
    "    for word in sentence:\n",
    "        czech_word_freq[word] += 1\n",
    "\n",
    "english_most_common_words = [word for word, _ in english_word_freq.most_common(1000)]\n",
    "czech_most_common_words = [word for word, _ in czech_word_freq.most_common(1000)]\n"
   ],
   "metadata": {
    "collapsed": false,
    "ExecuteTime": {
     "end_time": "2024-04-30T07:35:06.937801Z",
     "start_time": "2024-04-30T07:35:00.683105Z"
    }
   },
   "id": "e5841f5ae5682442",
   "outputs": [],
   "execution_count": 8
  },
  {
   "cell_type": "code",
   "source": [
    "# save words with counts\n",
    "with open('english_word_freq.txt', 'w') as f:\n",
    "    for word, count in english_word_freq.most_common(1000):\n",
    "        f.write(\"%s %d\\n\" % (word, count))\n",
    "with open('czech_word_freq.txt', 'w') as f:\n",
    "    for word, count in czech_word_freq.most_common(1000):\n",
    "        f.write(\"%s %d\\n\" % (word, count))"
   ],
   "metadata": {
    "collapsed": false,
    "ExecuteTime": {
     "end_time": "2024-04-30T07:35:35.825191Z",
     "start_time": "2024-04-30T07:35:35.767227Z"
    }
   },
   "id": "fee768331bf00b34",
   "outputs": [],
   "execution_count": 9
  },
  {
   "cell_type": "code",
   "source": [
    "# save common words\n",
    "with open('english_most_common_words.txt', 'w') as f:\n",
    "    for word in english_most_common_words:\n",
    "        f.write(\"%s\\n\" % word)\n",
    "with open('czech_most_common_words.txt', 'w') as f:\n",
    "    for word in czech_most_common_words:\n",
    "        f.write(\"%s\\n\" % word)"
   ],
   "metadata": {
    "collapsed": false,
    "ExecuteTime": {
     "end_time": "2024-04-30T07:36:09.579333Z",
     "start_time": "2024-04-30T07:36:09.575564Z"
    }
   },
   "id": "f4bad8a568f51da7",
   "outputs": [],
   "execution_count": 10
  },
  {
   "cell_type": "code",
   "source": [
    "# save the tokenized sentences\n",
    "import pickle\n",
    "with open('english_sentences.pkl', 'wb') as f:\n",
    "    pickle.dump(english_sentences, f)\n",
    "with open('czech_sentences.pkl', 'wb') as f:\n",
    "    pickle.dump(czech_sentences, f)"
   ],
   "metadata": {
    "collapsed": false,
    "ExecuteTime": {
     "end_time": "2024-04-30T07:36:24.067086Z",
     "start_time": "2024-04-30T07:36:16.210231Z"
    }
   },
   "id": "9ed94787f5c66f92",
   "outputs": [],
   "execution_count": 11
  },
  {
   "metadata": {},
   "cell_type": "markdown",
   "source": "",
   "id": "38a3e450bb97f76b"
  },
  {
   "cell_type": "code",
   "source": [
    "import multiprocessing\n",
    "\n",
    "cores = multiprocessing.cpu_count() # Count the number of cores in a computer"
   ],
   "metadata": {
    "collapsed": false,
    "ExecuteTime": {
     "end_time": "2024-04-30T07:36:26.073887Z",
     "start_time": "2024-04-30T07:36:26.071697Z"
    }
   },
   "id": "ea0ece2fabbbd74b",
   "outputs": [],
   "execution_count": 12
  },
  {
   "cell_type": "code",
   "source": [
    "cores"
   ],
   "metadata": {
    "collapsed": false,
    "ExecuteTime": {
     "end_time": "2024-04-30T07:36:26.602795Z",
     "start_time": "2024-04-30T07:36:26.599976Z"
    }
   },
   "id": "288b46ae00727eb3",
   "outputs": [
    {
     "data": {
      "text/plain": [
       "16"
      ]
     },
     "execution_count": 13,
     "metadata": {},
     "output_type": "execute_result"
    }
   ],
   "execution_count": 13
  },
  {
   "cell_type": "code",
   "source": [
    "import scipy\n",
    "scipy.__version__"
   ],
   "metadata": {
    "collapsed": false,
    "ExecuteTime": {
     "end_time": "2024-04-30T07:36:26.605176Z",
     "start_time": "2024-04-30T07:36:26.603273Z"
    }
   },
   "id": "cfddad8c411b081e",
   "outputs": [
    {
     "data": {
      "text/plain": [
       "'1.12.0'"
      ]
     },
     "execution_count": 14,
     "metadata": {},
     "output_type": "execute_result"
    }
   ],
   "execution_count": 14
  },
  {
   "cell_type": "code",
   "source": [
    "from tqdm import tqdm\n",
    "from gensim.models import Word2Vec\n",
    "english_model = Word2Vec(english_sentences, vector_size=100, window=5, min_count=5)\n",
    "czech_model = Word2Vec(czech_sentences, vector_size=100, window=5, min_count=5)"
   ],
   "metadata": {
    "collapsed": false,
    "ExecuteTime": {
     "end_time": "2024-04-30T07:37:40.080512Z",
     "start_time": "2024-04-30T07:36:30.401648Z"
    }
   },
   "id": "27710a939f31c242",
   "outputs": [],
   "execution_count": 15
  },
  {
   "cell_type": "code",
   "source": [
    "#save the models\n",
    "english_model.save('english_model.bin')\n",
    "czech_model.save('czech_model.bin')\n"
   ],
   "metadata": {
    "collapsed": false,
    "ExecuteTime": {
     "end_time": "2024-04-30T07:37:45.655962Z",
     "start_time": "2024-04-30T07:37:45.588622Z"
    }
   },
   "id": "b5c4426fb1596a4d",
   "outputs": [],
   "execution_count": 16
  },
  {
   "cell_type": "code",
   "source": [
    "english_model.build_vocab(english_sentences, progress_per=10000)"
   ],
   "metadata": {
    "collapsed": false,
    "ExecuteTime": {
     "end_time": "2024-04-30T07:37:52.099068Z",
     "start_time": "2024-04-30T07:37:49.858267Z"
    }
   },
   "id": "5a8319054018b42b",
   "outputs": [],
   "execution_count": 17
  },
  {
   "cell_type": "code",
   "outputs": [
    {
     "data": {
      "text/plain": "array([-0.54806614, -0.01819965,  1.1773138 ,  0.32080886,  0.8152069 ,\n       -0.14914533,  0.18360068, -2.3476794 , -0.9791172 , -0.08045336,\n        0.7193804 ,  0.17005268, -0.7254727 , -1.0667393 ,  2.4598668 ,\n       -0.2210985 ,  0.03522401, -0.7874495 ,  1.684779  , -0.13761666,\n        0.5328858 ,  0.507696  ,  0.06550439, -1.6921133 , -0.89277107,\n        0.23387471,  0.356072  ,  0.3973815 , -0.480898  , -1.0152174 ,\n        2.1866965 , -1.398485  ,  0.05035563,  0.76237655,  0.93540263,\n       -0.45010066,  0.5803226 ,  0.17633936, -0.150698  , -1.0869824 ,\n        0.70152026, -2.6999655 , -0.5494913 , -0.5049243 , -2.375663  ,\n       -0.5883161 ,  0.26958856,  0.01465278, -1.8970444 , -0.45376408,\n       -0.43732616, -0.98177135,  1.8450038 , -1.5685921 , -0.01842064,\n       -2.1469214 , -0.67472625, -2.896647  , -0.577647  ,  0.8362844 ,\n        0.6472836 , -0.3450616 ,  0.29168335, -1.2197721 ,  0.63091123,\n        0.12482826,  1.823888  , -1.3342676 , -1.2550029 ,  0.97811836,\n       -0.69784105, -2.2949421 ,  0.95690036, -1.1437521 , -0.87660265,\n        3.1366205 , -1.2503133 ,  0.56604624, -1.2195717 ,  0.12331936,\n       -1.0128009 , -1.2554746 ,  0.36758155,  0.19621852,  1.8373326 ,\n       -0.23983368,  0.76241213, -0.41049218, -0.6252135 , -0.24001502,\n        0.53336877,  0.49760872,  2.0465755 ,  0.46974093,  0.49815091,\n       -0.26276952, -1.2517743 ,  0.45134464,  0.6018811 , -0.06280747],\n      dtype=float32)"
     },
     "execution_count": 19,
     "metadata": {},
     "output_type": "execute_result"
    }
   ],
   "source": [
    "english_model.wv['learn']"
   ],
   "metadata": {
    "collapsed": false,
    "ExecuteTime": {
     "end_time": "2024-04-24T14:24:56.576480Z",
     "start_time": "2024-04-24T14:24:56.574114Z"
    }
   },
   "id": "aac269a6598e3063",
   "execution_count": 19
  },
  {
   "cell_type": "code",
   "outputs": [],
   "source": [
    "# read in model\n",
    "from gensim.models import Word2Vec\n",
    "english_model = Word2Vec.load('english_model.bin')\n",
    "czech_model = Word2Vec.load('czech_model.bin')\n"
   ],
   "metadata": {
    "collapsed": false,
    "ExecuteTime": {
     "end_time": "2024-04-24T14:27:24.098346Z",
     "start_time": "2024-04-24T14:27:23.633919Z"
    }
   },
   "id": "3abcc76fdbfa1b13",
   "execution_count": 22
  },
  {
   "cell_type": "code",
   "outputs": [
    {
     "name": "stdout",
     "output_type": "stream",
     "text": [
      "60219\n",
      "119086\n"
     ]
    }
   ],
   "source": [
    "# length of the vocabulary\n",
    "print(len(english_model.wv))\n",
    "print(len(czech_model.wv))"
   ],
   "metadata": {
    "collapsed": false,
    "ExecuteTime": {
     "end_time": "2024-04-24T14:27:47.407417Z",
     "start_time": "2024-04-24T14:27:47.405174Z"
    }
   },
   "id": "82a62f21dae0fe9d",
   "execution_count": 24
  },
  {
   "cell_type": "code",
   "outputs": [],
   "source": [],
   "metadata": {
    "collapsed": false,
    "ExecuteTime": {
     "end_time": "2024-04-24T14:24:57.047120Z",
     "start_time": "2024-04-24T14:24:57.046043Z"
    }
   },
   "id": "b7f947333b74a0df",
   "execution_count": 21
  }
 ],
 "metadata": {
  "kernelspec": {
   "display_name": "Python 3",
   "language": "python",
   "name": "python3"
  },
  "language_info": {
   "codemirror_mode": {
    "name": "ipython",
    "version": 2
   },
   "file_extension": ".py",
   "mimetype": "text/x-python",
   "name": "python",
   "nbconvert_exporter": "python",
   "pygments_lexer": "ipython2",
   "version": "2.7.6"
  }
 },
 "nbformat": 4,
 "nbformat_minor": 5
}
