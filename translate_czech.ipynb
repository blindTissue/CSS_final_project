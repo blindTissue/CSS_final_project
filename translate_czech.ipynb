{
 "cells": [
  {
   "cell_type": "code",
   "execution_count": 1,
   "id": "initial_id",
   "metadata": {
    "collapsed": true,
    "ExecuteTime": {
     "end_time": "2024-04-24T19:02:21.327924Z",
     "start_time": "2024-04-24T19:02:21.323780Z"
    }
   },
   "outputs": [],
   "source": [
    "\n",
    "with open('czech_translate.txt', 'r') as file:\n",
    "    czech_data = file.read().split('\\n')\n",
    "    \n",
    "with open('english_most_common_words.txt', 'r') as file:\n",
    "    english_data = file.read().split('\\n')"
   ]
  },
  {
   "cell_type": "code",
   "outputs": [
    {
     "name": "stdout",
     "output_type": "stream",
     "text": [
      "1000\n",
      "1000\n"
     ]
    }
   ],
   "source": [
    "print(len(czech_data))\n",
    "print(len(english_data))"
   ],
   "metadata": {
    "collapsed": false,
    "ExecuteTime": {
     "end_time": "2024-04-24T19:02:21.334957Z",
     "start_time": "2024-04-24T19:02:21.333325Z"
    }
   },
   "id": "6aa3a8c7263cdf6",
   "execution_count": 2
  },
  {
   "cell_type": "code",
   "outputs": [],
   "source": [
    "# lower case\n",
    "czech_data = [word.lower() for word in czech_data]\n",
    "english_data = [word.lower() for word in english_data]"
   ],
   "metadata": {
    "collapsed": false,
    "ExecuteTime": {
     "end_time": "2024-04-24T19:02:21.337520Z",
     "start_time": "2024-04-24T19:02:21.335869Z"
    }
   },
   "id": "e71f9334ab7ac270",
   "execution_count": 3
  },
  {
   "cell_type": "code",
   "outputs": [
    {
     "name": "stdout",
     "output_type": "stream",
     "text": [
      "703\n",
      "425\n"
     ]
    }
   ],
   "source": [
    "# find the common words\n",
    "common_words = []\n",
    "common_words_set = set()\n",
    "for word in czech_data:\n",
    "    if word in english_data:\n",
    "        common_words.append(word)\n",
    "        common_words_set.add(word)\n",
    "        \n",
    "print(len(common_words))\n",
    "print(len(common_words_set))"
   ],
   "metadata": {
    "collapsed": false,
    "ExecuteTime": {
     "end_time": "2024-04-24T19:02:21.342541Z",
     "start_time": "2024-04-24T19:02:21.338420Z"
    }
   },
   "id": "e0b97fc38f0fa377",
   "execution_count": 4
  },
  {
   "cell_type": "code",
   "outputs": [],
   "source": [
    "# get pairing\n",
    "dict_pairing = {}\n",
    "for item in common_words_set:\n",
    "    item_in_czech = czech_data.index(item)\n",
    "    item_in_english = english_data.index(item)\n",
    "    dict_pairing[item] = (item_in_czech, item_in_english)\n",
    "    "
   ],
   "metadata": {
    "collapsed": false,
    "ExecuteTime": {
     "end_time": "2024-04-24T19:02:21.346298Z",
     "start_time": "2024-04-24T19:02:21.342982Z"
    }
   },
   "id": "ac5e1e589b73d537",
   "execution_count": 5
  },
  {
   "cell_type": "code",
   "outputs": [
    {
     "data": {
      "text/plain": "{'something': (467, 440),\n 'council': (792, 92),\n 'one': (442, 69),\n 'before': (101, 255),\n 'we': (369, 16),\n 'application': (881, 803),\n 'who': (36, 80),\n 'services': (458, 267),\n 'good': (350, 141),\n 'always': (403, 394),\n 'powers': (937, 901),\n 'third': (955, 469),\n 'foreign': (500, 488),\n 'room': (544, 375),\n 'fund': (734, 589),\n 'individual': (677, 599),\n 'effort': (290, 922),\n ')': (16, 29),\n 'much': (365, 148),\n 'public': (411, 154),\n 'government': (280, 227),\n 'costs': (554, 376),\n 'as': (25, 20),\n 'including': (253, 240),\n 'proposals': (782, 426),\n 'whole': (406, 428),\n 'social': (186, 142),\n 'negotiations': (223, 420),\n 'therefore': (91, 144),\n 'businesses': (488, 843),\n 'each': (525, 361),\n 'countries': (119, 67),\n 'you': (164, 40),\n 'concerning': (327, 693),\n 'human': (242, 161),\n 'number': (552, 239),\n 'reduction': (451, 915),\n 'location': (858, 567),\n 'russia': (714, 295),\n 'the': (38, 0),\n 'internal': (750, 499),\n 'protection': (342, 232),\n 'situation': (234, 178),\n 'banks': (523, 572),\n 'if': (79, 88),\n 'today': (121, 166),\n 'citizens': (295, 140),\n 'system': (227, 149),\n 'fully': (537, 509),\n 'never': (621, 636),\n 'needs': (916, 243),\n '000': (699, 928),\n 'make': (685, 109),\n 'private': (990, 546),\n 'really': (214, 369),\n 'again': (363, 299),\n 'only': (145, 77),\n 'however': (46, 169),\n 'institutions': (983, 285),\n 'small': (703, 318),\n 'area': (826, 176),\n 'czech': (890, 625),\n 'also': (33, 36),\n 'eur': (333, 357),\n 'possible': (185, 174),\n 'first': (310, 134),\n '?': (52, 84),\n 'most': (710, 119),\n 'towards': (345, 390),\n 'thank': (672, 331),\n 'impact': (727, 435),\n 'until': (176, 683),\n 'staff': (861, 561),\n 'no': (376, 96),\n 'three': (549, 329),\n 'positive': (880, 527),\n 'trade': (413, 237),\n 'financing': (420, 968),\n '!': (207, 263),\n 'need': (731, 78),\n 'two': (532, 155),\n 'specific': (563, 444),\n 'importance': (419, 408),\n 'everyone': (130, 761),\n 'especially': (109, 319),\n 'finally': (648, 700),\n 'important': (125, 83),\n 'some': (348, 108),\n 'current': (347, 258),\n 'president': (984, 55),\n 'be': (29, 13),\n 'at': (72, 32),\n 'stay': (493, 273),\n 'just': (78, 136),\n 'to': (11, 4),\n '&': (108, 568),\n 'context': (291, 596),\n 'use': (721, 138),\n 'technology': (918, 820),\n 'place': (569, 214),\n 'though': (643, 666),\n 'vote': (278, 213),\n 'decision': (208, 417),\n 'security': (318, 212),\n 'without': (159, 217),\n 'way': (266, 132),\n 'because': (68, 86),\n 'states': (65, 66),\n 'century': (658, 903),\n 'me': (261, 221),\n 'side': (428, 993),\n 'amount': (681, 973),\n 'where': (173, 151),\n 'hotel': (95, 145),\n 'matters': (571, 787),\n 'what': (48, 87),\n 'work': (213, 115),\n 'accept': (497, 896),\n 'lisbon': (574, 323),\n 'development': (311, 146),\n 'that': (6, 9),\n 'requires': (744, 941),\n 'markets': (702, 350),\n 'war': (877, 576),\n 'almost': (461, 653),\n 'freedom': (617, 411),\n 'position': (790, 352),\n 'agricultural': (927, 535),\n 'principles': (945, 654),\n 'meeting': (381, 638),\n 'included': (557, 940),\n 'national': (739, 182),\n 'creating': (997, 916),\n 'legal': (218, 321),\n 'discussion': (849, 958),\n 'environment': (177, 487),\n 'control': (737, 468),\n 'part': (652, 198),\n 'groups': (187, 505),\n 'investment': (707, 459),\n 'industry': (231, 415),\n 'then': (264, 231),\n 'certainly': (938, 676),\n 'needed': (689, 456),\n 'offers': (566, 571),\n 'period': (195, 524),\n 'even': (404, 129),\n 'service': (471, 508),\n 'cases': (799, 597),\n 'basic': (470, 788),\n 'requirements': (743, 780),\n 'when': (98, 105),\n 'day': (583, 419),\n 'growth': (359, 234),\n 'process': (391, 238),\n 'economic': (216, 91),\n 'main': (518, 416),\n 'together': (395, 363),\n 'their': (57, 42),\n 'transport': (601, 370),\n 'essential': (449, 441),\n 'regulations': (506, 876),\n 'implement': (934, 963),\n 'people': (172, 81),\n 'was': (60, 39),\n 'central': (868, 624),\n 'many': (212, 110),\n 'outside': (507, 816),\n 'resources': (390, 330),\n 'how': (39, 170),\n 'regard': (490, 333),\n 'commission': (45, 52),\n 'peace': (740, 667),\n 'customers': (568, 548),\n 'parliament': (165, 72),\n 'time': (513, 85),\n 'improve': (914, 517),\n 'budget': (407, 253),\n 'consumers': (852, 515),\n '(': (15, 28),\n 'i': (379, 12),\n 'safety': (378, 439),\n 'years': (287, 121),\n 'resolution': (220, 262),\n 'had': (262, 139),\n 'better': (400, 242),\n '%': (85, 118),\n 'order': (254, 152),\n 'our': (175, 41),\n 'country': (271, 130),\n 'women': (389, 260),\n 'agreements': (252, 553),\n 'so': (40, 82),\n 'his': (83, 150),\n 'climate': (298, 281),\n 'achieve': (304, 448),\n 'see': (842, 158),\n 'those': (596, 116),\n '10': (615, 583),\n 'during': (272, 292),\n 'concerns': (416, 547),\n 'has': (64, 27),\n 'own': (306, 205),\n 'proposal': (167, 208),\n 'more': (92, 45),\n '[': (249, 312),\n 'companies': (209, 402),\n 'booking.com': (593, 688),\n 'systems': (883, 465),\n 'or': (41, 43),\n 'opportunity': (608, 373),\n 'health': (410, 293),\n 'have': (126, 22),\n 'from': (56, 30),\n 'than': (55, 93),\n 'questions': (281, 640),\n 'international': (237, 164),\n 'access': (191, 276),\n 'once': (510, 445),\n 'he': (491, 203),\n 'member': (105, 62),\n 'its': (366, 47),\n '``': (76, 228),\n 'steps': (639, 975),\n 'on': (5, 11),\n '4': (773, 863),\n 'mr': (277, 54),\n 'gentlemen': (117, 301),\n ';': (50, 98),\n 'consequences': (833, 706),\n 'can': (110, 34),\n 'strategy': (308, 297),\n 'world': (418, 111),\n 'say': (356, 180),\n 'several': (349, 529),\n '2010': (562, 649),\n 'would': (13, 35),\n 'create': (521, 458),\n 'which': (17, 26),\n 'changes': (364, 619),\n 'activities': (531, 585),\n 'political': (300, 117),\n 'rights': (135, 112),\n 'between': (54, 106),\n 'global': (380, 186),\n 'values': (777, 616),\n 'sector': (867, 254),\n 'things': (273, 482),\n 'market': (162, 125),\n 'data': (609, 389),\n 'forces': (820, 956),\n 'united': (706, 247),\n 'others': (486, 521),\n 'with': (4, 18),\n '5': (789, 809),\n 'goods': (818, 796),\n 'pl': (765, 894),\n 'act': (729, 634),\n '2007': (733, 822),\n ':': (27, 49),\n 'strengthen': (954, 942),\n 'financial': (118, 114),\n 'further': (438, 311),\n 'plan': (768, 594),\n 'fight': (753, 558),\n 'company': (723, 910),\n 'whether': (239, 300),\n 'money': (754, 349),\n 'workers': (825, 385),\n 'them': (299, 113),\n 'question': (387, 216),\n 'fr': (704, 895),\n 'agreement': (713, 192),\n 'here': (134, 184),\n 'him': (592, 711),\n 'nothing': (522, 772),\n 'crisis': (163, 128),\n 'problems': (257, 246),\n 'creation': (456, 742),\n 'must': (47, 50),\n '2020': (657, 754),\n 'very': (59, 63),\n 'opinion': (385, 425),\n 'change': (864, 199),\n 'prices': (495, 451),\n 'solution': (161, 492),\n 'after': (53, 173),\n 'already': (87, 204),\n '30': (935, 939),\n 'continue': (321, 314),\n 'long': (956, 303),\n 'problem': (288, 236),\n 'energy': (294, 137),\n 'second': (322, 457),\n 'new': (181, 76),\n 'and': (2, 5),\n 'such': (586, 90),\n 'cohesion': (660, 745),\n '1': (559, 476),\n 'elections': (961, 719),\n 'last': (616, 222),\n 'debate': (800, 183),\n ',': (0, 1),\n 'framework': (138, 353),\n 'high': (539, 324),\n 'presidency': (323, 405),\n 'rather': (756, 434),\n 'reality': (383, 962),\n 'other': (372, 75),\n 'children': (440, 307),\n 'ladies': (313, 362),\n 'level': (193, 194),\n '–': (63, 104),\n 'implementation': (565, 449),\n 'but': (26, 44),\n 'little': (891, 512),\n 'whose': (169, 846),\n 'future': (847, 160),\n 'rules': (538, 315),\n 'her': (198, 500),\n 'information': (405, 206),\n 'areas': (58, 269),\n 'democracy': (494, 368),\n 'available': (417, 356),\n 'right': (142, 153),\n 'violence': (668, 691),\n 'state': (296, 309),\n 'common': (985, 211),\n 'committee': (504, 280),\n 'ensure': (221, 201),\n 'basis': (269, 387),\n 'education': (535, 442),\n 'results': (732, 550),\n 'provide': (832, 288),\n 'year': (120, 172),\n 'were': (123, 100),\n 'for': (9, 10),\n 'lead': (923, 617),\n 'region': (545, 339),\n '|': (611, 953),\n 'is': (190, 8),\n 'conditions': (427, 340),\n 'increase': (505, 305),\n ']': (265, 326),\n 'big': (375, 944),\n '2': (462, 495),\n '2008': (463, 536),\n 'through': (244, 188),\n 'products': (971, 320),\n 'management': (352, 545),\n \"''\": (67, 264),\n 'emissions': (776, 601),\n 'higher': (600, 739),\n 'direct': (654, 848),\n 'direction': (582, 987),\n 'china': (749, 259),\n 'reasons': (769, 712),\n 'step': (649, 483),\n 'it': (12, 21),\n 'different': (499, 279),\n 'against': (66, 126),\n 'life': (828, 399),\n 'regards': (760, 926),\n 'cooperation': (286, 218),\n '3': (489, 590),\n 'benefit': (585, 692),\n 'clearly': (431, 473),\n 'de': (394, 562),\n 'eu': (31, 53),\n 'next': (131, 270),\n '.': (1, 2),\n 'all': (132, 38),\n 'means': (332, 245),\n 'of': (14, 3),\n 'help': (226, 224),\n '-': (18, 31),\n 'often': (340, 391),\n 'vital': (509, 946),\n 'less': (426, 348),\n 'europe': (156, 64),\n 'members': (630, 409),\n 'while': (640, 283),\n 'thing': (801, 651),\n 'european': (43, 24),\n 'now': (147, 102),\n 'yet': (674, 460),\n 'words': (989, 510),\n '20': (651, 626),\n 'local': (913, 503),\n 'are': (876, 14),\n 'reason': (480, 431),\n 'reforms': (862, 811),\n 'times': (716, 540),\n 'support': (178, 99),\n 'policy': (354, 94),\n 'union': (51, 61),\n 'attention': (492, 430),\n 'this': (80, 15),\n 'working': (338, 366),\n 'let': (837, 629),\n 'why': (466, 230),\n 'responsibility': (763, 454),\n 'still': (116, 196),\n '...': (232, 304),\n 'opportunities': (708, 770),\n 'could': (519, 133),\n 'rooms': (303, 382),\n 'parties': (196, 613),\n 'point': (970, 210),\n 'over': (292, 159),\n 'under': (373, 200),\n 'economy': (368, 223),\n 'regarding': (445, 750),\n 'in': (3, 6),\n '/': (817, 988),\n 'said': (859, 226),\n 'progress': (717, 377),\n 'research': (779, 412),\n 'your': (319, 123),\n 'group': (690, 275),\n 'these': (93, 73),\n 'billion': (659, 514),\n 'role': (634, 248),\n '2009': (393, 479),\n 'regional': (625, 518)}"
     },
     "execution_count": 6,
     "metadata": {},
     "output_type": "execute_result"
    }
   ],
   "source": [
    "dict_pairing"
   ],
   "metadata": {
    "collapsed": false,
    "ExecuteTime": {
     "end_time": "2024-04-24T19:02:21.354430Z",
     "start_time": "2024-04-24T19:02:21.347408Z"
    }
   },
   "id": "be2498e986b1c514",
   "execution_count": 6
  },
  {
   "cell_type": "code",
   "outputs": [
    {
     "data": {
      "text/plain": "(156, 64)"
     },
     "execution_count": 7,
     "metadata": {},
     "output_type": "execute_result"
    }
   ],
   "source": [
    "dict_pairing['europe']"
   ],
   "metadata": {
    "collapsed": false,
    "ExecuteTime": {
     "end_time": "2024-04-24T19:02:21.357031Z",
     "start_time": "2024-04-24T19:02:21.354979Z"
    }
   },
   "id": "d0d8be2a7997535",
   "execution_count": 7
  },
  {
   "cell_type": "code",
   "outputs": [],
   "source": [
    "import matplotlib.pyplot as plt"
   ],
   "metadata": {
    "collapsed": false,
    "ExecuteTime": {
     "end_time": "2024-04-24T19:02:21.801100Z",
     "start_time": "2024-04-24T19:02:21.357624Z"
    }
   },
   "id": "6451fab0f122b3b6",
   "execution_count": 8
  },
  {
   "cell_type": "code",
   "outputs": [
    {
     "data": {
      "text/plain": "(array([173.,  87.,  58.,  43.,  28.,  10.,  12.,  10.,   2.,   2.]),\n array([  1. ,  93.8, 186.6, 279.4, 372.2, 465. , 557.8, 650.6, 743.4,\n        836.2, 929. ]),\n <BarContainer object of 10 artists>)"
     },
     "execution_count": 9,
     "metadata": {},
     "output_type": "execute_result"
    },
    {
     "data": {
      "text/plain": "<Figure size 640x480 with 1 Axes>",
      "image/png": "[encoded data removed]"
     },
     "metadata": {},
     "output_type": "display_data"
    }
   ],
   "source": [
    "# create histogram of distances\n",
    "distances = []\n",
    "for key in dict_pairing.keys():\n",
    "    distances.append(abs(dict_pairing[key][0] - dict_pairing[key][1]))\n",
    "    \n",
    "plt.hist(distances)"
   ],
   "metadata": {
    "collapsed": false,
    "ExecuteTime": {
     "end_time": "2024-04-24T19:02:21.863840Z",
     "start_time": "2024-04-24T19:02:21.801612Z"
    }
   },
   "id": "e81bb763db6e2b07",
   "execution_count": 9
  },
  {
   "cell_type": "code",
   "outputs": [
    {
     "data": {
      "text/plain": "179"
     },
     "execution_count": 10,
     "metadata": {},
     "output_type": "execute_result"
    }
   ],
   "source": [
    "#distance <100\n",
    "len([dist for dist in distances if dist < 100])"
   ],
   "metadata": {
    "collapsed": false,
    "ExecuteTime": {
     "end_time": "2024-04-24T19:02:21.866671Z",
     "start_time": "2024-04-24T19:02:21.864491Z"
    }
   },
   "id": "dcd2fe5125fa7229",
   "execution_count": 10
  },
  {
   "cell_type": "code",
   "outputs": [],
   "source": [
    "# Order words by distance\n",
    "\n",
    "for key in dict_pairing.keys():\n",
    "    dict_pairing[key] = (dict_pairing[key][0], dict_pairing[key][1], abs(dict_pairing[key][0] - dict_pairing[key][1]))\n",
    "    \n",
    "dict_pairing = {k: v for k, v in sorted(dict_pairing.items(), key=lambda item: item[1][2])}\n"
   ],
   "metadata": {
    "collapsed": false,
    "ExecuteTime": {
     "end_time": "2024-04-24T19:02:21.869218Z",
     "start_time": "2024-04-24T19:02:21.867129Z"
    }
   },
   "id": "dfbc220e5d4d4efc",
   "execution_count": 11
  },
  {
   "cell_type": "code",
   "outputs": [
    {
     "data": {
      "text/plain": "{'states': (65, 66, 1),\n ',': (0, 1, 1),\n 'level': (193, 194, 1),\n 'for': (9, 10, 1),\n '.': (1, 2, 1),\n 'or': (41, 43, 2),\n 'help': (226, 224, 2),\n 'also': (33, 36, 3),\n 'that': (6, 9, 3),\n 'must': (47, 50, 3),\n 'and': (2, 5, 3),\n 'in': (3, 6, 3),\n 'financial': (118, 114, 4),\n 'very': (59, 63, 4),\n '30': (935, 939, 4),\n 'as': (25, 20, 5),\n 'offers': (566, 571, 5),\n 'on': (5, 11, 6),\n 'to': (11, 4, 7),\n 'when': (98, 105, 7),\n 'commission': (45, 52, 7),\n 'continue': (321, 314, 7),\n 'essential': (449, 441, 8),\n 'always': (403, 394, 9),\n 'if': (79, 88, 9),\n 'which': (17, 26, 9),\n 'it': (12, 21, 9),\n 'union': (51, 61, 10),\n 'possible': (185, 174, 11),\n 'importance': (419, 408, 11),\n 'strategy': (308, 297, 11),\n 'problems': (257, 246, 11),\n 'right': (142, 153, 11),\n 'of': (14, 3, 11),\n 'foreign': (500, 488, 12),\n 'strengthen': (954, 942, 12),\n ')': (16, 29, 13),\n 'including': (253, 240, 13),\n '(': (15, 28, 13),\n 'state': (296, 309, 13),\n '-': (18, 31, 13),\n 'with': (4, 18, 14),\n 'never': (621, 636, 15),\n 'their': (57, 42, 15),\n 'be': (29, 13, 16),\n 'climate': (298, 281, 17),\n 'because': (68, 86, 18),\n 'but': (26, 44, 18),\n 'european': (43, 24, 19),\n 'customers': (568, 548, 20),\n 'during': (272, 292, 20),\n '5': (789, 809, 20),\n 'ensure': (221, 201, 20),\n 'these': (93, 73, 20),\n 'was': (60, 39, 21),\n 'whole': (406, 428, 22),\n 'where': (173, 151, 22),\n 'would': (13, 35, 22),\n 'goods': (818, 796, 22),\n ':': (27, 49, 22),\n 'eu': (31, 53, 22),\n 'though': (643, 666, 23),\n 'rights': (135, 112, 23),\n 'violence': (668, 691, 23),\n 'were': (123, 100, 23),\n 'eur': (333, 357, 24),\n '20': (651, 626, 25),\n 'from': (56, 30, 26),\n 'something': (467, 440, 27),\n 'fully': (537, 509, 28),\n 'working': (338, 366, 28),\n 'implement': (934, 963, 29),\n '?': (52, 84, 32),\n 'together': (395, 363, 32),\n '10': (615, 583, 32),\n 'then': (264, 231, 33),\n '%': (85, 118, 33),\n '2': (462, 495, 33),\n 'others': (486, 521, 35),\n 'crisis': (163, 128, 35),\n 'powers': (937, 901, 36),\n 'service': (471, 508, 37),\n 'requirements': (743, 780, 37),\n 'has': (64, 27, 37),\n 'market': (162, 125, 37),\n 'the': (38, 0, 38),\n 'than': (55, 93, 38),\n 'what': (48, 87, 39),\n 'at': (72, 32, 40),\n 'me': (261, 221, 40),\n 'opinion': (385, 425, 40),\n 'proposal': (167, 208, 41),\n '–': (63, 104, 41),\n 'important': (125, 83, 42),\n 'resolution': (220, 262, 42),\n 'so': (40, 82, 42),\n 'clearly': (431, 473, 42),\n 'member': (105, 62, 43),\n 'who': (36, 80, 44),\n 'social': (186, 142, 44),\n 'prices': (495, 451, 44),\n 'today': (121, 166, 45),\n 'towards': (345, 390, 45),\n 'now': (147, 102, 45),\n 'more': (92, 45, 47),\n ';': (50, 98, 48),\n 'banks': (523, 572, 49),\n 'ladies': (313, 362, 49),\n 'reason': (480, 431, 49),\n 'hotel': (95, 145, 50),\n 'here': (134, 184, 50),\n 'often': (340, 391, 51),\n 'reforms': (862, 811, 51),\n 'countries': (119, 67, 52),\n 'finally': (648, 700, 52),\n 'between': (54, 106, 52),\n 'problem': (288, 236, 52),\n 'year': (120, 172, 52),\n 'government': (280, 227, 53),\n 'therefore': (91, 144, 53),\n 'activities': (531, 585, 54),\n 'situation': (234, 178, 56),\n '!': (207, 263, 56),\n 'through': (244, 188, 56),\n 'reasons': (769, 712, 57),\n 'just': (78, 136, 58),\n 'without': (159, 217, 58),\n 'resources': (390, 330, 60),\n 'against': (66, 126, 60),\n 'safety': (378, 439, 61),\n 'whether': (239, 300, 61),\n 'available': (417, 356, 61),\n ']': (265, 326, 61),\n 'attention': (492, 430, 62),\n 'opportunities': (708, 770, 62),\n '[': (249, 312, 63),\n 'create': (521, 458, 63),\n 'again': (363, 299, 64),\n 'vote': (278, 213, 65),\n 'once': (510, 445, 65),\n 'this': (80, 15, 65),\n 'his': (83, 150, 67),\n 'only': (145, 77, 68),\n 'cooperation': (286, 218, 68),\n '...': (232, 304, 72),\n 'peace': (740, 667, 73),\n 'international': (237, 164, 73),\n '2008': (463, 536, 73),\n 'can': (110, 34, 76),\n 'application': (881, 803, 78),\n 'individual': (677, 599, 78),\n 'system': (227, 149, 78),\n 'less': (426, 348, 78),\n 'support': (178, 99, 79),\n 'rooms': (303, 382, 79),\n 'still': (116, 196, 80),\n 'human': (242, 161, 81),\n 'creating': (997, 916, 81),\n 'presidency': (323, 405, 82),\n '1': (559, 476, 83),\n 'access': (191, 276, 85),\n 'cohesion': (660, 745, 85),\n '2009': (393, 479, 86),\n '2010': (562, 649, 87),\n 'conditions': (427, 340, 87),\n 'means': (332, 245, 87),\n 'current': (347, 258, 89),\n '2007': (733, 822, 89),\n '4': (773, 863, 90),\n 'people': (172, 81, 91),\n 'europe': (156, 64, 92),\n 'parliament': (165, 72, 93),\n 'education': (535, 442, 93),\n 'all': (132, 38, 94),\n 'booking.com': (593, 688, 95),\n 'act': (729, 634, 95),\n '2020': (657, 754, 97),\n 'technology': (918, 820, 98),\n 'work': (213, 115, 98),\n 'own': (306, 205, 101),\n '3': (489, 590, 101),\n 'main': (518, 416, 102),\n 'many': (212, 110, 102),\n 'order': (254, 152, 102),\n 'legal': (218, 321, 103),\n 'have': (126, 22, 104),\n 'new': (181, 76, 105),\n 'security': (318, 212, 106),\n 'benefit': (585, 692, 107),\n 'regional': (625, 518, 107),\n 'discussion': (849, 958, 109),\n 'protection': (342, 232, 110),\n 'implementation': (565, 449, 116),\n 'health': (410, 293, 117),\n 'already': (87, 204, 117),\n 'basis': (269, 387, 118),\n 'specific': (563, 444, 119),\n 'him': (592, 711, 119),\n 'after': (53, 173, 120),\n 'however': (46, 169, 123),\n 'had': (262, 139, 123),\n 'you': (164, 40, 124),\n 'growth': (359, 234, 125),\n 'economic': (216, 91, 125),\n 'democracy': (494, 368, 126),\n 'consequences': (833, 706, 127),\n 'further': (438, 311, 127),\n 'women': (389, 260, 129),\n 'pl': (765, 894, 129),\n 'how': (39, 170, 131),\n 'concerns': (416, 547, 131),\n 'children': (440, 307, 133),\n 'over': (292, 159, 133),\n 'way': (266, 132, 134),\n 'our': (175, 41, 134),\n 'second': (322, 457, 135),\n 'forces': (820, 956, 136),\n 'higher': (600, 739, 139),\n 'next': (131, 270, 139),\n 'country': (271, 130, 141),\n 'achieve': (304, 448, 144),\n 'fund': (734, 589, 145),\n 'economy': (368, 223, 145),\n 'billion': (659, 514, 145),\n 'thing': (801, 651, 150),\n '``': (76, 228, 152),\n 'process': (391, 238, 153),\n 'before': (101, 255, 154),\n 'budget': (407, 253, 154),\n 'citizens': (295, 140, 155),\n 'really': (214, 369, 155),\n 'regard': (490, 333, 157),\n 'energy': (294, 137, 157),\n 'better': (400, 242, 158),\n 'values': (777, 616, 161),\n 'each': (525, 361, 164),\n 'day': (583, 419, 164),\n 'development': (311, 146, 165),\n 'years': (287, 121, 166),\n 'step': (649, 483, 166),\n 'regards': (760, 926, 166),\n 'de': (394, 562, 168),\n 'room': (544, 375, 169),\n 'question': (387, 216, 171),\n '/': (817, 988, 171),\n 'under': (373, 200, 173),\n 'plan': (768, 594, 174),\n 'emissions': (776, 601, 175),\n 'first': (310, 134, 176),\n 'trade': (413, 237, 176),\n 'say': (356, 180, 176),\n 'times': (716, 540, 176),\n 'costs': (554, 376, 178),\n 'several': (349, 529, 180),\n 'results': (732, 550, 182),\n 'is': (190, 8, 182),\n 'political': (300, 117, 183),\n 'industry': (231, 415, 184),\n 'gentlemen': (117, 301, 184),\n 'them': (299, 113, 186),\n 'company': (723, 910, 187),\n 'services': (458, 267, 191),\n 'fr': (704, 895, 191),\n 'almost': (461, 653, 192),\n 'companies': (209, 402, 193),\n 'management': (352, 545, 193),\n 'global': (380, 186, 194),\n 'direct': (654, 848, 194),\n 'fight': (753, 558, 195),\n 'your': (319, 123, 196),\n 'negotiations': (223, 420, 197),\n 'requires': (744, 941, 197),\n \"''\": (67, 264, 197),\n 'information': (405, 206, 199),\n 'increase': (505, 305, 200),\n 'cases': (799, 597, 202),\n 'freedom': (617, 411, 206),\n 'region': (545, 339, 206),\n 'let': (837, 629, 208),\n 'good': (350, 141, 209),\n 'decision': (208, 417, 209),\n 'things': (273, 482, 209),\n 'especially': (109, 319, 210),\n 'areas': (58, 269, 211),\n 'yet': (674, 460, 214),\n 'framework': (138, 353, 215),\n 'high': (539, 324, 215),\n 'matters': (571, 787, 216),\n 'much': (365, 148, 217),\n 'three': (549, 329, 220),\n 'stay': (493, 273, 220),\n 'data': (609, 389, 220),\n 'different': (499, 279, 220),\n 'members': (630, 409, 221),\n 'mr': (277, 54, 223),\n 'rules': (538, 315, 223),\n 'committee': (504, 280, 224),\n '000': (699, 928, 229),\n 'transport': (601, 370, 231),\n 'needed': (689, 456, 233),\n 'opportunity': (608, 373, 235),\n 'why': (466, 230, 236),\n 'some': (348, 108, 240),\n 'elections': (961, 719, 242),\n 'central': (868, 624, 244),\n 'century': (658, 903, 245),\n 'investment': (707, 459, 248),\n 'nothing': (522, 772, 250),\n 'internal': (750, 499, 251),\n 'lisbon': (574, 323, 251),\n 'changes': (364, 619, 255),\n 'public': (411, 154, 257),\n 'meeting': (381, 638, 257),\n 'policy': (354, 94, 260),\n 'certainly': (938, 676, 262),\n 'czech': (890, 625, 265),\n 'control': (737, 468, 269),\n 'even': (404, 129, 275),\n 'no': (376, 96, 280),\n 'creation': (456, 742, 286),\n 'he': (491, 203, 288),\n 'location': (858, 567, 291),\n 'principles': (945, 654, 291),\n 'impact': (727, 435, 292),\n 'amount': (681, 973, 292),\n 'other': (372, 75, 297),\n 'staff': (861, 561, 300),\n 'war': (877, 576, 301),\n 'agreements': (252, 553, 301),\n 'her': (198, 500, 302),\n 'context': (291, 596, 305),\n 'regarding': (445, 750, 305),\n 'lead': (923, 617, 306),\n 'world': (418, 111, 307),\n 'outside': (507, 816, 309),\n 'responsibility': (763, 454, 309),\n 'environment': (177, 487, 310),\n 'number': (552, 239, 313),\n 'groups': (187, 505, 318),\n 'basic': (470, 788, 318),\n 'its': (366, 47, 319),\n 'rather': (756, 434, 322),\n 'period': (195, 524, 329),\n 'solution': (161, 492, 331),\n 'steps': (639, 975, 336),\n 'consumers': (852, 515, 337),\n 'progress': (717, 377, 340),\n 'thank': (672, 331, 341),\n '|': (611, 953, 342),\n 'markets': (702, 350, 352),\n 'we': (369, 16, 353),\n 'positive': (880, 527, 353),\n 'businesses': (488, 843, 355),\n 'place': (569, 214, 355),\n 'proposals': (782, 426, 356),\n 'while': (640, 283, 357),\n 'questions': (281, 640, 359),\n 'concerning': (327, 693, 366),\n 'i': (379, 12, 367),\n 'research': (779, 412, 367),\n 'regulations': (506, 876, 370),\n 'one': (442, 69, 373),\n 'two': (532, 155, 377),\n 'little': (891, 512, 379),\n 'included': (557, 940, 383),\n 'small': (703, 318, 385),\n 'could': (519, 133, 386),\n 'role': (634, 248, 386),\n 'agricultural': (927, 535, 392),\n 'last': (616, 222, 394),\n 'improve': (914, 517, 397),\n 'accept': (497, 896, 399),\n 'money': (754, 349, 405),\n 'direction': (582, 987, 405),\n 'local': (913, 503, 410),\n 'group': (690, 275, 415),\n 'parties': (196, 613, 417),\n 'systems': (883, 465, 418),\n 'russia': (714, 295, 419),\n 'time': (513, 85, 428),\n 'life': (828, 399, 429),\n 'vital': (509, 946, 437),\n 'position': (790, 352, 438),\n 'workers': (825, 385, 440),\n 'private': (990, 546, 444),\n 'part': (652, 198, 454),\n 'united': (706, 247, 459),\n '&': (108, 568, 460),\n 'reduction': (451, 915, 464),\n 'words': (989, 510, 479),\n 'those': (596, 116, 480),\n 'third': (955, 469, 486),\n 'china': (749, 259, 490),\n 'such': (586, 90, 496),\n 'until': (176, 683, 507),\n 'agreement': (713, 192, 521),\n 'provide': (832, 288, 544),\n 'financing': (420, 968, 548),\n 'national': (739, 182, 557),\n 'side': (428, 993, 565),\n 'big': (375, 944, 569),\n 'make': (685, 109, 576),\n 'reality': (383, 962, 579),\n 'use': (721, 138, 583),\n 'most': (710, 119, 591),\n 'sector': (867, 254, 613),\n 'debate': (800, 183, 617),\n 'everyone': (130, 761, 631),\n 'effort': (290, 922, 632),\n 'said': (859, 226, 633),\n 'area': (826, 176, 650),\n 'products': (971, 320, 651),\n 'need': (731, 78, 653),\n 'long': (956, 303, 653),\n 'change': (864, 199, 665),\n 'needs': (916, 243, 673),\n 'whose': (169, 846, 677),\n 'see': (842, 158, 684),\n 'future': (847, 160, 687),\n 'institutions': (983, 285, 698),\n 'council': (792, 92, 700),\n 'point': (970, 210, 760),\n 'common': (985, 211, 774),\n 'are': (876, 14, 862),\n 'president': (984, 55, 929)}"
     },
     "execution_count": 12,
     "metadata": {},
     "output_type": "execute_result"
    }
   ],
   "source": [
    "dict_pairing"
   ],
   "metadata": {
    "collapsed": false,
    "ExecuteTime": {
     "end_time": "2024-04-24T19:02:21.878220Z",
     "start_time": "2024-04-24T19:02:21.870702Z"
    }
   },
   "id": "d3f613387f8ed5c6",
   "execution_count": 12
  },
  {
   "cell_type": "code",
   "outputs": [
    {
     "name": "stdout",
     "output_type": "stream",
     "text": [
      "[27, 78, 44, 9, 36, 12, 78, 13, 53, 5, 13, 22, 44, 53, 52, 81, 38, 56, 49, 9, 45, 78, 28, 15, 64, 68, 3, 24, 11, 32, 45, 56, 11, 52, 42, 89, 16, 40, 58, 7, 98, 23, 65, 58, 18, 1, 40, 22, 50, 39, 98, 3, 81, 33, 5, 37, 37, 7, 32, 15, 8, 29, 91, 21, 60, 7, 73, 20, 93, 13, 61, 42, 33, 42, 67, 17, 32, 20, 37, 41, 47, 63, 95, 2, 26, 38, 73, 85, 65, 43, 6, 90, 48, 76, 11, 87, 22, 63, 9, 54, 23, 52, 37, 35, 14, 20, 22, 95, 89, 22, 12, 4, 61, 50, 35, 11, 3, 97, 4, 40, 44, 4, 7, 52, 3, 85, 83, 1, 82, 49, 1, 41, 18, 61, 11, 23, 13, 20, 93, 52, 23, 1, 87, 61, 33, 73, 56, 57, 9, 60, 68, 42, 22, 1, 94, 87, 11, 2, 13, 51, 78, 92, 19, 45, 25, 49, 51, 79, 10, 62, 65, 28, 80, 72, 62, 79, 3, 20, 86]\n"
     ]
    }
   ],
   "source": [
    "print([dist for dist in distances if dist < 100])"
   ],
   "metadata": {
    "collapsed": false,
    "ExecuteTime": {
     "end_time": "2024-04-24T19:02:53.136503Z",
     "start_time": "2024-04-24T19:02:53.134290Z"
    }
   },
   "id": "cf13e96234a1a5b6",
   "execution_count": 14
  },
  {
   "cell_type": "code",
   "outputs": [
    {
     "name": "stdout",
     "output_type": "stream",
     "text": [
      "states (65, 66, 1)\n",
      ", (0, 1, 1)\n",
      "level (193, 194, 1)\n",
      "for (9, 10, 1)\n",
      ". (1, 2, 1)\n",
      "or (41, 43, 2)\n",
      "help (226, 224, 2)\n",
      "also (33, 36, 3)\n",
      "that (6, 9, 3)\n",
      "must (47, 50, 3)\n",
      "and (2, 5, 3)\n",
      "in (3, 6, 3)\n",
      "financial (118, 114, 4)\n",
      "very (59, 63, 4)\n",
      "30 (935, 939, 4)\n",
      "as (25, 20, 5)\n",
      "offers (566, 571, 5)\n",
      "on (5, 11, 6)\n",
      "to (11, 4, 7)\n",
      "when (98, 105, 7)\n",
      "commission (45, 52, 7)\n",
      "continue (321, 314, 7)\n",
      "essential (449, 441, 8)\n",
      "always (403, 394, 9)\n",
      "if (79, 88, 9)\n",
      "which (17, 26, 9)\n",
      "it (12, 21, 9)\n",
      "union (51, 61, 10)\n",
      "possible (185, 174, 11)\n",
      "importance (419, 408, 11)\n",
      "strategy (308, 297, 11)\n",
      "problems (257, 246, 11)\n",
      "right (142, 153, 11)\n",
      "of (14, 3, 11)\n",
      "foreign (500, 488, 12)\n",
      "strengthen (954, 942, 12)\n",
      ") (16, 29, 13)\n",
      "including (253, 240, 13)\n",
      "( (15, 28, 13)\n",
      "state (296, 309, 13)\n",
      "- (18, 31, 13)\n",
      "with (4, 18, 14)\n",
      "never (621, 636, 15)\n",
      "their (57, 42, 15)\n",
      "be (29, 13, 16)\n",
      "climate (298, 281, 17)\n",
      "because (68, 86, 18)\n",
      "but (26, 44, 18)\n",
      "european (43, 24, 19)\n",
      "customers (568, 548, 20)\n",
      "during (272, 292, 20)\n",
      "5 (789, 809, 20)\n",
      "ensure (221, 201, 20)\n",
      "these (93, 73, 20)\n",
      "was (60, 39, 21)\n",
      "whole (406, 428, 22)\n",
      "where (173, 151, 22)\n",
      "would (13, 35, 22)\n",
      "goods (818, 796, 22)\n",
      ": (27, 49, 22)\n",
      "eu (31, 53, 22)\n",
      "though (643, 666, 23)\n",
      "rights (135, 112, 23)\n",
      "violence (668, 691, 23)\n",
      "were (123, 100, 23)\n",
      "eur (333, 357, 24)\n",
      "20 (651, 626, 25)\n",
      "from (56, 30, 26)\n",
      "something (467, 440, 27)\n",
      "fully (537, 509, 28)\n",
      "working (338, 366, 28)\n",
      "implement (934, 963, 29)\n",
      "? (52, 84, 32)\n",
      "together (395, 363, 32)\n",
      "10 (615, 583, 32)\n",
      "then (264, 231, 33)\n",
      "% (85, 118, 33)\n",
      "2 (462, 495, 33)\n",
      "others (486, 521, 35)\n",
      "crisis (163, 128, 35)\n",
      "powers (937, 901, 36)\n",
      "service (471, 508, 37)\n",
      "requirements (743, 780, 37)\n",
      "has (64, 27, 37)\n",
      "market (162, 125, 37)\n",
      "the (38, 0, 38)\n",
      "than (55, 93, 38)\n",
      "what (48, 87, 39)\n",
      "at (72, 32, 40)\n",
      "me (261, 221, 40)\n",
      "opinion (385, 425, 40)\n",
      "proposal (167, 208, 41)\n",
      "– (63, 104, 41)\n",
      "important (125, 83, 42)\n",
      "resolution (220, 262, 42)\n",
      "so (40, 82, 42)\n",
      "clearly (431, 473, 42)\n",
      "member (105, 62, 43)\n",
      "who (36, 80, 44)\n",
      "social (186, 142, 44)\n",
      "prices (495, 451, 44)\n",
      "today (121, 166, 45)\n",
      "towards (345, 390, 45)\n",
      "now (147, 102, 45)\n",
      "more (92, 45, 47)\n",
      "; (50, 98, 48)\n",
      "banks (523, 572, 49)\n",
      "ladies (313, 362, 49)\n",
      "reason (480, 431, 49)\n",
      "hotel (95, 145, 50)\n",
      "here (134, 184, 50)\n",
      "often (340, 391, 51)\n",
      "reforms (862, 811, 51)\n",
      "countries (119, 67, 52)\n",
      "finally (648, 700, 52)\n",
      "between (54, 106, 52)\n",
      "problem (288, 236, 52)\n",
      "year (120, 172, 52)\n",
      "government (280, 227, 53)\n",
      "therefore (91, 144, 53)\n",
      "activities (531, 585, 54)\n",
      "situation (234, 178, 56)\n",
      "! (207, 263, 56)\n",
      "through (244, 188, 56)\n",
      "reasons (769, 712, 57)\n",
      "just (78, 136, 58)\n",
      "without (159, 217, 58)\n",
      "resources (390, 330, 60)\n",
      "against (66, 126, 60)\n",
      "safety (378, 439, 61)\n",
      "whether (239, 300, 61)\n",
      "available (417, 356, 61)\n",
      "] (265, 326, 61)\n",
      "attention (492, 430, 62)\n",
      "opportunities (708, 770, 62)\n",
      "[ (249, 312, 63)\n",
      "create (521, 458, 63)\n",
      "again (363, 299, 64)\n",
      "vote (278, 213, 65)\n",
      "once (510, 445, 65)\n",
      "this (80, 15, 65)\n",
      "his (83, 150, 67)\n",
      "only (145, 77, 68)\n",
      "cooperation (286, 218, 68)\n",
      "... (232, 304, 72)\n",
      "peace (740, 667, 73)\n",
      "international (237, 164, 73)\n",
      "2008 (463, 536, 73)\n",
      "can (110, 34, 76)\n",
      "application (881, 803, 78)\n",
      "individual (677, 599, 78)\n",
      "system (227, 149, 78)\n",
      "less (426, 348, 78)\n",
      "support (178, 99, 79)\n",
      "rooms (303, 382, 79)\n",
      "still (116, 196, 80)\n",
      "human (242, 161, 81)\n",
      "creating (997, 916, 81)\n",
      "presidency (323, 405, 82)\n",
      "1 (559, 476, 83)\n",
      "access (191, 276, 85)\n",
      "cohesion (660, 745, 85)\n",
      "2009 (393, 479, 86)\n",
      "2010 (562, 649, 87)\n",
      "conditions (427, 340, 87)\n",
      "means (332, 245, 87)\n",
      "current (347, 258, 89)\n",
      "2007 (733, 822, 89)\n",
      "4 (773, 863, 90)\n",
      "people (172, 81, 91)\n",
      "europe (156, 64, 92)\n",
      "parliament (165, 72, 93)\n",
      "education (535, 442, 93)\n",
      "all (132, 38, 94)\n",
      "booking.com (593, 688, 95)\n",
      "act (729, 634, 95)\n",
      "2020 (657, 754, 97)\n",
      "technology (918, 820, 98)\n",
      "work (213, 115, 98)\n"
     ]
    }
   ],
   "source": [
    "#print words with distance < 100\n",
    "for key in dict_pairing.keys():\n",
    "    if dict_pairing[key][2] < 100:\n",
    "        print(key, dict_pairing[key])"
   ],
   "metadata": {
    "collapsed": false,
    "ExecuteTime": {
     "end_time": "2024-04-24T19:03:15.994498Z",
     "start_time": "2024-04-24T19:03:15.991353Z"
    }
   },
   "id": "14938b71a7b793d7",
   "execution_count": 15
  },
  {
   "cell_type": "code",
   "outputs": [],
   "source": [],
   "metadata": {
    "collapsed": false
   },
   "id": "b125e895fb06ffab"
  }
 ],
 "metadata": {
  "kernelspec": {
   "display_name": "Python 3",
   "language": "python",
   "name": "python3"
  },
  "language_info": {
   "codemirror_mode": {
    "name": "ipython",
    "version": 2
   },
   "file_extension": ".py",
   "mimetype": "text/x-python",
   "name": "python",
   "nbconvert_exporter": "python",
   "pygments_lexer": "ipython2",
   "version": "2.7.6"
  }
 },
 "nbformat": 4,
 "nbformat_minor": 5
}
